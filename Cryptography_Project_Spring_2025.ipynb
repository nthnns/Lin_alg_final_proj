{
 "cells": [
  {
   "cell_type": "markdown",
   "id": "gjg7lRHLY7bb",
   "metadata": {
    "id": "gjg7lRHLY7bb"
   },
   "source": [
    "# CSCI 2820 - LINEAR ALGEBRA - SPRING 2025"
   ]
  },
  {
   "cell_type": "markdown",
   "id": "cZpUypYGY7bd",
   "metadata": {
    "id": "cZpUypYGY7bd"
   },
   "source": [
    "Make sure you fill in any place that says `CODE SOLUTION HERE` or \"CODE SOLUTION HERE\", as well as your NAMES below:"
   ]
  },
  {
   "cell_type": "code",
   "execution_count": 1,
   "id": "SVl67l2JY7be",
   "metadata": {
    "id": "SVl67l2JY7be"
   },
   "outputs": [],
   "source": [
    "NAMES = \"Macy Crow, Nathan So, Nathan Reed, Trinity Than\"\n"
   ]
  },
  {
   "cell_type": "markdown",
   "id": "OxP4NZELY7bg",
   "metadata": {
    "id": "OxP4NZELY7bg"
   },
   "source": [
    "# FINAL PROJECT (Option 2):  Cryptography"
   ]
  },
  {
   "cell_type": "code",
   "execution_count": 2,
   "id": "ZxSYkRY8Y7bg",
   "metadata": {
    "id": "ZxSYkRY8Y7bg"
   },
   "outputs": [],
   "source": [
    "## This is a Jupyter notebook for the CU Linear Algebra Final Project.\n",
    "## Professor Divya E. Vernerey and Ayush Mishra\n",
    "## Spring 2025"
   ]
  },
  {
   "cell_type": "code",
   "execution_count": 3,
   "id": "M6G31uilY7bh",
   "metadata": {
    "colab": {
     "base_uri": "https://localhost:8080/"
    },
    "id": "M6G31uilY7bh",
    "outputId": "ee1872be-89d1-43f8-e66a-3799717bccd1"
   },
   "outputs": [
    {
     "name": "stdout",
     "output_type": "stream",
     "text": [
      "Requirement already satisfied: numpy in /opt/conda/lib/python3.10/site-packages (1.23.5)\n"
     ]
    }
   ],
   "source": [
    "# Add libraries you are using and add any other packages that you might have worked with\n",
    "!pip install numpy"
   ]
  },
  {
   "cell_type": "code",
   "execution_count": 4,
   "id": "8AnH62M9Y7bi",
   "metadata": {
    "id": "8AnH62M9Y7bi"
   },
   "outputs": [],
   "source": [
    "import numpy as np"
   ]
  },
  {
   "cell_type": "markdown",
   "id": "8EqSbGxuY7bi",
   "metadata": {
    "id": "8EqSbGxuY7bi"
   },
   "source": [
    "# Cryptography with Linear Algebra"
   ]
  },
  {
   "cell_type": "markdown",
   "id": "hqIi8HGPY7bk",
   "metadata": {
    "id": "hqIi8HGPY7bk"
   },
   "source": [
    "## Objective\n",
    "In this project, students will explore the fascinating world of cryptography through the lens of linear algebra. They will learn how to encode and decode messages using substitution ciphers, with a special focus on Hill ciphers. This project will enhance their understanding of modular arithmetic and linear transformations while providing practical applications of these mathematical concepts.\n",
    "\n",
    "## Key Concepts\n",
    "\n",
    "- **Enciphering**: The process of converting plaintext (uncoded messages) into ciphertext (encoded messages).\n",
    "- **Deciphering**: The reverse process of enciphering, converting ciphertext back into plaintext.\n",
    "- **Modular Arithmetic**: A system of arithmetic for integers, where numbers \"wrap around\" upon reaching a certain value—the modulus.\n",
    "- **Linear Transformations**: Functions that map vectors to other vectors in a linear manner, preserving vector addition and scalar multiplication.\n",
    "- **Hill n-cipher**: A type of substitution cipher that uses linear algebra concepts, particularly matrix multiplication, to encode messages.\n",
    "- **Digraph**: A pair of letters treated as a single unit in encoding and decoding processes.\n"
   ]
  },
  {
   "cell_type": "markdown",
   "id": "xUqPgW-HY7bk",
   "metadata": {
    "id": "xUqPgW-HY7bk"
   },
   "source": [
    "# Digraphs in Cryptography\n",
    "\n",
    "In cryptography, a **digraph** is a pair of consecutive letters treated as a single unit during the encoding and decoding processes. This approach can enhance security by encoding pairs of letters together, making it more challenging to perform frequency analysis.\n",
    "\n",
    "\n",
    "### Why Use Digraphs?\n",
    "\n",
    "Using digraphs instead of single letters makes cryptographic attacks, like frequency analysis, more difficult. This is because the patterns in pairs of letters (digraphs) are more complex and less predictable than those of individual letters.\n",
    "\n",
    "\n",
    "### Example: Hill Cipher with Digraphs\n",
    "\n",
    "\n",
    "Consider the plaintext message \"MEET\". We will divide this message into digraphs and encode it using a Hill cipher.\n",
    "\n",
    "\n",
    "### Steps to Encode Using Digraphs\n",
    "\n",
    "\n",
    "#### 1. Convert to Numerical Values\n",
    "\n",
    "* Map each letter to a number (A=0, B=1, ..., Z=25).\n",
    "* Example: \"M\" → 12, \"E\" → 4, \"E\" → 4, \"T\" → 19.\n",
    "* Digraphs: [12, 4] for \"ME\" and [4, 19] for \"ET\".\n",
    "\n",
    "\n",
    "#### 2. Matrix Multiplication\n",
    "\n",
    "\n",
    "* Use the key matrix for the Hill cipher to transform the digraphs.\n",
    "* Example key matrix:\n",
    "\n",
    "\n",
    "$$\n",
    "K = \\begin{bmatrix}\n",
    "3 & 10 \\\\\n",
    "4 & 11\n",
    "\\end{bmatrix}\n",
    "$$\n",
    "\n",
    "\n",
    "* Multiply each digraph by the key matrix:\n",
    "\n",
    "\n",
    "$$\n",
    "\\begin{bmatrix}\n",
    "3 & 10 \\\\\n",
    "4 & 11\n",
    "\\end{bmatrix}\n",
    "\\begin{bmatrix}\n",
    "12 \\\\\n",
    "4\n",
    "\\end{bmatrix}\n",
    "= \\begin{bmatrix}\n",
    "56 \\\\\n",
    "64\n",
    "\\end{bmatrix}\n",
    "$$\n",
    "\n",
    "\n",
    "#### 3. Apply Modulo Operation\n",
    "\n",
    "\n",
    "* Apply modulo 26 to the resulting vector to ensure the values stay within the range (0-25):\n",
    "\n",
    "\n",
    "$$\n",
    "\\begin{bmatrix}\n",
    "56 \\\\\n",
    "64\n",
    "\\end{bmatrix}\n",
    "\\mod 26 = \\begin{bmatrix}\n",
    "4 \\\\\n",
    "12\n",
    "\\end{bmatrix}\n",
    "$$\n",
    "\n",
    "\n",
    "#### 4. Convert Back to Letters\n",
    "\n",
    "\n",
    "* Map the numerical values back to letters.\n",
    "* Example: 4 → \"E\" and 12 → \"M\", so the digraph [4, 12] corresponds to \"EM\".\n",
    "\n",
    "\n",
    "### Complete Example\n",
    "\n",
    "\n",
    "Let's encode the entire message \"MEET\" using the Hill cipher.\n",
    "\n",
    "\n",
    "#### Step-by-Step Process:\n",
    "\n",
    "\n",
    "1. **Divide into Digraphs**:\n",
    "   - \"ME\" → [12, 4]\n",
    "   - \"ET\" → [4, 19]\n",
    "\n",
    "2. **Apply Key Matrix**:\n",
    "\n",
    "\n",
    "   - For \"ME\":\n",
    "\n",
    "\n",
    "$$\n",
    "\\begin{bmatrix}\n",
    "3 & 10 \\\\\n",
    "4 & 11\n",
    "\\end{bmatrix}\n",
    "\\begin{bmatrix}\n",
    "12 \\\\\n",
    "4\n",
    "\\end{bmatrix}\n",
    "= \\begin{bmatrix}\n",
    "56 \\\\\n",
    "64\n",
    "\\end{bmatrix}\n",
    "\\mod 26 = \\begin{bmatrix}\n",
    "4 \\\\\n",
    "12\n",
    "\\end{bmatrix}\n",
    "= \"EM\"\n",
    "$$\n",
    "\n",
    "\n",
    "   - For \"ET\":\n",
    "\n",
    "\n",
    "$$\n",
    "\\begin{bmatrix}\n",
    "3 & 10 \\\\\n",
    "4 & 11\n",
    "\\end{bmatrix}\n",
    "\\begin{bmatrix}\n",
    "4 \\\\\n",
    "19\n",
    "\\end{bmatrix}\n",
    "= \\begin{bmatrix}\n",
    "214 \\\\\n",
    "243\n",
    "\\end{bmatrix}\n",
    "\\mod 26 = \\begin{bmatrix}\n",
    "6 \\\\\n",
    "9\n",
    "\\end{bmatrix}\n",
    "= \"GJ\"\n",
    "$$\n",
    "\n",
    "\n",
    "3. **Resulting Ciphertext**:\n",
    "\n",
    "\n",
    "   - The encoded message for \"MEET\" is \"EMGJ\".\n",
    "\n",
    "\n",
    "By understanding and using digraphs, students can appreciate the added complexity and security in cryptographic processes. This example demonstrates how digraphs are used to encode and decode messages using the Hill cipher, enhancing their understanding of cryptography."
   ]
  },
  {
   "cell_type": "markdown",
   "id": "0EuVLx1PY7bl",
   "metadata": {
    "id": "0EuVLx1PY7bl"
   },
   "source": [
    "## Exercises\n",
    "\n",
    "### Exercise 1: Introduction to Hill Cipher\n",
    "**Description**: In this exercise, you will learn the basics of the Hill cipher, a type of polygraphic substitution cipher that uses linear algebra techniques. This will help you understand how to encode and decode messages using matrix multiplication and modular arithmetic.\n",
    "\n",
    "**Tasks**:\n",
    "1. **Understand the Hill Cipher Algorithm**:\n",
    "   - Learn how the Hill cipher uses a matrix (key) to transform plaintext into ciphertext.\n",
    "   - Explore the concepts of digraphs and matrix multiplication in the context of cryptography.\n",
    "2. **Implement Hill Cipher in Python**:\n",
    "   - Write Python functions to encode and decode messages using the Hill cipher.\n",
    "   - Test the implementation with given examples.\n",
    "3. **Practice Problems**:\n",
    "   - Encode the message \"SEND\" using a 2x2 key matrix.\n",
    "   - Decode a given ciphertext using the provided key matrix and verify the result."
   ]
  },
  {
   "cell_type": "markdown",
   "id": "xKkGJ5ndY7bm",
   "metadata": {
    "id": "xKkGJ5ndY7bm"
   },
   "source": [
    "> **_NOTE:_**  We have provided you the **mod_inverse** function we you need to implement the rest"
   ]
  },
  {
   "cell_type": "code",
   "execution_count": 5,
   "id": "41988637-a0cc-46d8-8348-cd422debf05c",
   "metadata": {
    "id": "Pl9P4K5zY7bm"
   },
   "outputs": [
    {
     "name": "stdout",
     "output_type": "stream",
     "text": [
      "Original message: I Love Linear Algebra\n",
      "Encoded message: P PNHD ZLTMQZ QVEXFZQ\n",
      "Decoded message: I LOVE LINEAR ALGEBRA\n"
     ]
    }
   ],
   "source": [
    "def mod_inverse(a, m):\n",
    "    a = a % m\n",
    "    for x in range(1, m):\n",
    "        if (a * x) % m == 1:\n",
    "            return x\n",
    "    return None\n",
    "\n",
    "def encode_message(message, key_matrix, modulo):\n",
    "    # turn the message into a series of numbers, keep spaces version for reverse/ adding them back in\n",
    "    numMessageSpace = []\n",
    "    numMessage = []\n",
    "    atoz = ['A','B','C','D','E','F','G','H','I','J','K','L','M','N','O','P','Q','R','S','T','U','V','W','X','Y','Z']\n",
    "    for i in message:\n",
    "        if i == ' ':\n",
    "            numMessageSpace.append(' ')\n",
    "        else:\n",
    "            i = i.capitalize()\n",
    "            num = atoz.index(i)\n",
    "            numMessage.append(num)\n",
    "            numMessageSpace.append(num)\n",
    "    \n",
    "    # Multiply the message vector by the key matrix and apply modulo for each two letter pair\n",
    "    encrypt = []\n",
    "    j = 0\n",
    "    while j < len(numMessage):\n",
    "        temp = np.array([[numMessage[j]], [numMessage[j+1]]])\n",
    "        temp = (key_matrix @ temp)\n",
    "        temp = np.mod(temp, modulo)\n",
    "        encrypt.append(temp[0])\n",
    "        encrypt.append(temp[1])\n",
    "        j = j + 2\n",
    "    \n",
    "    # Convert the numerical values back to characters\n",
    "    final = \"\"\n",
    "    j = 0\n",
    "    for i in numMessageSpace:\n",
    "        if i == ' ':\n",
    "            final = final + ' '\n",
    "        else:\n",
    "            temp = int(encrypt[j])\n",
    "            temp = atoz[temp]\n",
    "            final = final + temp\n",
    "            j = j + 1\n",
    "    final = str(final)\n",
    "    return(final)\n",
    "\n",
    "def decode_message(encoded_message, key_matrix, modulo):\n",
    "    # Find the inverse of the key matrix in the modular space\n",
    "    key = (np.linalg.inv(key_matrix))\n",
    "    \n",
    "    # Convert encoded message to numerical values (A=0, B=1, ..., Z=25)\n",
    "    numMessageSpace = []\n",
    "    numMessage = []\n",
    "    atoz = ['A','B','C','D','E','F','G','H','I','J','K','L','M','N','O','P','Q','R','S','T','U','V','W','X','Y','Z']\n",
    "    for i in encoded_message:\n",
    "        if i == ' ':\n",
    "            numMessageSpace.append(' ')\n",
    "        else:\n",
    "            i = i.capitalize()\n",
    "            num = atoz.index(i)\n",
    "            numMessage.append(num)\n",
    "            numMessageSpace.append(num)\n",
    "            \n",
    "    # Multiply the encoded vector by the inverse key matrix and apply modulo\n",
    "    encrypt = []\n",
    "    j = 0\n",
    "    while j < len(numMessage):\n",
    "        temp = np.array([[numMessage[j]], [numMessage[j+1]]])\n",
    "        temp = (key @ temp)\n",
    "        temp = np.mod(temp, modulo)\n",
    "        encrypt.append(temp[0])\n",
    "        encrypt.append(temp[1])\n",
    "        j = j + 2\n",
    "    \n",
    "    # Convert the numerical values back to characters\n",
    "    final = \"\"\n",
    "    j = 0\n",
    "    for i in numMessageSpace:\n",
    "        if i == ' ':\n",
    "            final = final + ' '\n",
    "        else:\n",
    "            temp = int(encrypt[j])\n",
    "            temp = atoz[temp]\n",
    "            final = final + temp\n",
    "            j = j + 1\n",
    "    final = str(final)\n",
    "    return(final)\n",
    "\n",
    "# Example usage\n",
    "message = \"I Love Linear Algebra\"\n",
    "key_matrix = np.array([[3, 11], [4, 15]])\n",
    "modulo = 26\n",
    "\n",
    "# complete these functions\n",
    "encoded_message = encode_message(message, key_matrix, modulo)\n",
    "decoded_message = decode_message(encoded_message, key_matrix, modulo)\n",
    "\n",
    "print(f\"Original message: {message}\")\n",
    "print(f\"Encoded message: {encoded_message}\")\n",
    "print(f\"Decoded message: {decoded_message}\")"
   ]
  },
  {
   "cell_type": "code",
   "execution_count": 6,
   "id": "mvfUOo5HY7bn",
   "metadata": {
    "id": "mvfUOo5HY7bn"
   },
   "outputs": [
    {
     "name": "stdout",
     "output_type": "stream",
     "text": [
      "Original message: Meet\n",
      "Encoded message: CENP\n",
      "Decoded message: MEET\n"
     ]
    }
   ],
   "source": [
    "# Example usage\n",
    "message = \"Meet\"\n",
    "matrix = np.array([[3, 10], [4, 11]])\n",
    "modulo = 26\n",
    "\n",
    "# complete these functions\n",
    "encoded_message = encode_message(message, key_matrix, modulo)\n",
    "decoded_message = decode_message(encoded_message, key_matrix, modulo)\n",
    "\n",
    "print(f\"Original message: {message}\")\n",
    "print(f\"Encoded message: {encoded_message}\")\n",
    "print(f\"Decoded message: {decoded_message}\")"
   ]
  },
  {
   "cell_type": "code",
   "execution_count": 7,
   "id": "2d506f94-b33d-41ae-b0fa-93e9173881d7",
   "metadata": {
    "id": "mvfUOo5HY7bn"
   },
   "outputs": [
    {
     "name": "stdout",
     "output_type": "stream",
     "text": [
      "Original message: send\n",
      "Encoded message: UCUT\n",
      "Decoded message: SEND\n"
     ]
    }
   ],
   "source": [
    "# Example usage\n",
    "message = \"send\"\n",
    "matrix = np.array([[3, 10], [4, 11]])\n",
    "modulo = 26\n",
    "\n",
    "# complete these functions\n",
    "encoded_message = encode_message(message, key_matrix, modulo)\n",
    "decoded_message = decode_message(encoded_message, key_matrix, modulo)\n",
    "\n",
    "print(f\"Original message: {message}\")\n",
    "print(f\"Encoded message: {encoded_message}\")\n",
    "print(f\"Decoded message: {decoded_message}\")"
   ]
  },
  {
   "cell_type": "markdown",
   "id": "jopk33xXmtcI",
   "metadata": {
    "id": "jopk33xXmtcI"
   },
   "source": [
    "### Exercise 2: Matrix Inversion Modulo Arithmetic\n",
    "**Description**: In this exercise, students will explore the conditions required for a matrix to be invertible in modular arithmetic. They will learn how to calculate the modular inverse and apply it to cryptographic problems.\n",
    "\n",
    "**Tasks**:\n",
    "1. **Understand Matrix Inversion**:\n",
    "   - Review the concept of matrix inversion in linear algebra.\n",
    "   - Learn how to calculate the inverse of a matrix modulo a given integer.\n",
    "2. **Implement Modular Inverse Calculation**:\n",
    "   - Write Python functions to calculate the modular inverse of a matrix.\n",
    "   - Test the implementation with different matrices and moduli.\n",
    "3. **Application in Cryptography**:\n",
    "   - Apply the modular inverse calculation to decrypt ciphertext encoded with a Hill cipher.\n",
    "   - Discuss the significance of matrix invertibility in ensuring the security of cryptographic systems."
   ]
  },
  {
   "cell_type": "code",
   "execution_count": 8,
   "id": "233ef2a6-0003-4090-86af-6a9ac8db5a48",
   "metadata": {
    "id": "SumgLKsem5Ni",
    "tags": []
   },
   "outputs": [
    {
     "name": "stdout",
     "output_type": "stream",
     "text": [
      "1. Reviewing the concept of matrix inversion\n",
      "First you have to determine if the matrix is invertible a easy method to use is to find the determinant of a matrix.\n",
      "Which given a 2x2 matrix the determinant is equal to ad-cb, if that value is not equal to 0 then the matrix is\n",
      "invertible. Which you then just do 1/det(A) * adjugate of matrix A\n",
      "\n",
      "2. Implement Modular Inverse Calculation\n",
      "In order to find the modular inverse of a matrix, we need the determinate of the matrix which we solved earlier.\n",
      "Next in order to find the inverse we have to first check if the determinant of the matrix and the mod value\n",
      "have a GCD of 1. After checking this then you want to find inverse of determinant A that leaves a remainder\n",
      "of 1 when you mod it by the value. After this you can begin solving for the inverse matrix. Which you follow\n",
      "the same logic as finding the inverse of a regular matrix. Just this time you will use the inverse of det(A)^1\n",
      "and multiply that value with the adjugate matrix rather than the usual det(A).\n",
      "\n",
      "Inverse Matrix = \n",
      "[[15 15]\n",
      " [22  3]]\n"
     ]
    }
   ],
   "source": [
    "print(\"1. Reviewing the concept of matrix inversion\")\n",
    "print(\"First you have to determine if the matrix is invertible a easy method to use is to find the determinant of a matrix.\")\n",
    "print(\"Which given a 2x2 matrix the determinant is equal to ad-cb, if that value is not equal to 0 then the matrix is\")\n",
    "print(\"invertible. Which you then just do 1/det(A) * adjugate of matrix A\")\n",
    "print(\"\")\n",
    "\n",
    "# Finding the inverse of a matrix modulo a given number\n",
    "def inverse_matrix_mod(matrix, modulo):\n",
    "\n",
    "    # Find the inverse of the matrix in the modular space\n",
    "\n",
    "    # Extracting values from matrix\n",
    "    a, b = matrix[0]\n",
    "    c, d = matrix[1]\n",
    "    \n",
    "    print(\"2. Implement Modular Inverse Calculation\")\n",
    "    print(\"In order to find the modular inverse of a matrix, we need the determinate of the matrix which we solved earlier.\")\n",
    "    print(\"Next in order to find the inverse we have to first check if the determinant of the matrix and the mod value\")\n",
    "    print(\"have a GCD of 1. After checking this then you want to find inverse of determinant A that leaves a remainder\")\n",
    "    print(\"of 1 when you mod it by the value. After this you can begin solving for the inverse matrix. Which you follow\")\n",
    "    print(\"the same logic as finding the inverse of a regular matrix. Just this time you will use the inverse of det(A)^1\")\n",
    "    print(\"and multiply that value with the adjugate matrix rather than the usual det(A).\")\n",
    "\n",
    "    # Finding the Determinant and wrapping it with modulo\n",
    "    detA = (a*d - b*c) % modulo\n",
    "    \n",
    "    # Setting up Adjugate Matrix\n",
    "    adjucateMatrix = np.array([[d, -b], [-c, a]])\n",
    "    \n",
    "    # Finding Inverse determinant\n",
    "    # mod_inverse was declared up above\n",
    "    inverseDetA = mod_inverse(detA, modulo)\n",
    "    \n",
    "    # Inverse A^(-1)\n",
    "    inverseA = (inverseDetA * adjucateMatrix) % modulo\n",
    "    \n",
    "    # Test Print\n",
    "    # print(inverseA)\n",
    "    \n",
    "    return inverseA\n",
    "    pass\n",
    "\n",
    "# Example usage\n",
    "matrix = np.array([[3, 11], [4, 15]])\n",
    "modulo = 26\n",
    "\n",
    "inverse_matrix = inverse_matrix_mod(matrix, modulo)\n",
    "print(\"\")\n",
    "print(\"Inverse Matrix = \")\n",
    "print(f\"{inverse_matrix}\")\n"
   ]
  },
  {
   "cell_type": "markdown",
   "id": "OizQWZROY7bn",
   "metadata": {
    "id": "OizQWZROY7bn"
   },
   "source": [
    "## Exercise 3: Deciphering an Intercepted Message\n",
    "\n",
    "### Background Information\n",
    "In cryptography, frequency analysis is a technique used to break ciphers by studying the frequency of letters or groups of letters in ciphertext. This method relies on the fact that certain letters and combinations of letters appear more frequently in a given language. By comparing these frequencies in the ciphertext to known frequencies in the plaintext language, we can make educated guesses about the original message.\n",
    "\n",
    "**Common Digraphs in English**:\n",
    "- Common digraphs (pairs of letters) in English include \"TH\", \"HE\", \"IN\", \"ER\", \"AN\", and \"RE\".\n",
    "- For example, in a long English text, \"TH\" might appear frequently, while \"XZ\" might be rare.\n",
    "\n",
    "### A list of 10 Most Common Digraphs in English language\n",
    "\n",
    "| Rank | Digraph | Examples of Usage |\n",
    "|------|---------|-------------------|\n",
    "| 1    | **th**  | the, then, they, there |\n",
    "| 2    | **he**  | here, help, hence |\n",
    "| 3    | **in**  | inside, into, begin |\n",
    "| 4    | **er**  | her, over, under |\n",
    "| 5    | **an**  | and, another, animal |\n",
    "| 6    | **re**  | are, there, where |\n",
    "| 7    | **nd**  | and, hand, stand |\n",
    "| 8    | **at**  | at, that, flat |\n",
    "| 9    | **on**  | on, only, upon |\n",
    "| 10   | **st**  | start, best, most |\n",
    "\n",
    "### Task\n",
    "In this exercise, you will intercept a message that was encoded using a Hill 2-cipher and use frequency analysis to decipher it. You will:\n",
    "1. Perform frequency analysis on the ciphertext to identify common digraphs.\n",
    "2. Use your analysis to guess the corresponding plaintext digraphs.\n",
    "3. Determine the deciphering matrix based on your guesses.\n",
    "4. Decode the message using the deciphering matrix.\n",
    "\n",
    "### Steps\n",
    "1. **Frequency Analysis**: Analyze the ciphertext stored in ciphertext1 and ciphertext2 for the most frequent digraphs.\n",
    "2. **Guesses**: Suppose \"KH\" and \"XW\" are the most frequent digraphs in the ciphertext. You might guess these correspond to \"TH\" and \"HE\" in plaintext.\n",
    "3. **Deciphering Matrix**: Use these guesses to find the matrix that can decipher the message.\n",
    "4. **Decoding**: Apply the deciphering matrix to the ciphertext to retrieve the original message.\n",
    "\n",
    "\n"
   ]
  },
  {
   "cell_type": "code",
   "execution_count": 9,
   "id": "166dedbc-a487-4773-9244-5e6a0d842d2c",
   "metadata": {
    "id": "h-PiVmvkY7bn",
    "tags": []
   },
   "outputs": [],
   "source": [
    "from collections import Counter\n",
    "\n",
    "def frequency_analysis(ciphertext):\n",
    "    ciphertext = ciphertext.replace(\" \", \"\") \n",
    "    digraphs = [ciphertext[i:i+2] for i in range(0, len(ciphertext)-1, 2)]\n",
    "    counter = Counter(digraphs)\n",
    "    most_common = counter.most_common(10) \n",
    "    return most_common\n",
    "\n",
    "def find_deciphering_matrix(ciphertext_digraphs, guessed_plaintext_digraphs):\n",
    "    modulo = 26\n",
    "\n",
    "    \"\"\"\n",
    "    Find the deciphering matrix using guessed plaintext digraphs and ciphertext digraphs.\n",
    "\n",
    "    Parameters:\n",
    "        ciphertext_digraphs: List of ciphertext digraphs (e.g., [\"KH\", \"XW\"]).\n",
    "        guessed_plaintext_digraphs: List of corresponding plaintext digraph guesses (e.g., [\"TH\", \"HE\"]).\n",
    "\n",
    "    Returns:\n",
    "        deciphering_matrix: The matrix used to decode the ciphertext.\n",
    "    \"\"\"\n",
    "    def digraph_to_vector(digraph):\n",
    "        # Convert each letter in a digraph to its numerical equivalent (A=0, ..., Z=25)\n",
    "        # STEP 1: Return a numpy array of the two digraphs, change the line of code below\n",
    "        atoz = \"ABCDEFGHIJKLMNOPQRSTUVWXYZ\"\n",
    "        return np.array([atoz.index(digraph[0]), atoz.index(digraph[1])])\n",
    "\n",
    "    # Construct matrices from digraph pairs\n",
    "    C = np.column_stack([digraph_to_vector(d) for d in ciphertext_digraphs])  # Ciphertext matrix\n",
    "\n",
    "    # STEP 2: Similarly implement this above line of code for the Guessed_plaintext_digraphs\n",
    "    P = np.column_stack([digraph_to_vector(d) for d in guessed_plaintext_digraphs])\n",
    "\n",
    "    # STEP 3: Calculate determinant and modular inverse of determinant\n",
    "    det_C = int(round(np.linalg.det(C)))\n",
    "    det_C_inv = mod_inverse(det_C, modulo)\n",
    "    if det_C_inv is None:\n",
    "        print(\"Matrix is uninvertable\")\n",
    "        return None\n",
    "\n",
    "    # STEP 4: Compute modular inverse of ciphertext matrix\n",
    "    adj_C = np.array([\n",
    "        [ C[1,1], -C[0,1] ],\n",
    "        [ -C[1,0], C[0,0] ]\n",
    "        ], dtype=int)\n",
    "    \n",
    "    C_inv = (det_C_inv * adj_C) % modulo\n",
    "\n",
    "    # STEP 5: Compute deciphering matrix by multiplying P with C^-1 modulo 'modulo'\n",
    "    deciphering_matrix = (P @ C_inv) % modulo\n",
    "\n",
    "    return deciphering_matrix\n",
    "\n",
    "\n",
    "#Find out what these say!\n",
    "ciphertext1 = \"SONAFQCHMWPTVEVY\"\n",
    "ciphertext2 = \"XXWWOKCHYFANMQIYTQZPPWXEISLHAVANVUEPKNQXGUZQLHSWWGCSEJKGMDQMXYIGQRGDIBCUSYYTQRRWYTSYJVURULGMSPJUHRJUTQZPQUXXXXWWGRMSKWSGUGNIPWYTMZMJOATEIQNVGZEJRGBGEQQDXMJGGHWWMSVCDXPWXEISLHAVXXWOXXAVMDUNOBTQRNIJBR\"\n",
    "\n"
   ]
  },
  {
   "cell_type": "code",
   "execution_count": 10,
   "id": "28b4d28d-3b39-465a-bc85-45c49ebeed11",
   "metadata": {
    "id": "pG-yZbDWY7bn",
    "tags": []
   },
   "outputs": [
    {
     "name": "stdout",
     "output_type": "stream",
     "text": [
      "Decoded ciphertext1:\n",
      "SENATORTOOKBRIBE\n",
      "List of digraphs and how common they are: [('XX', 5), ('WW', 3), ('TQ', 3), ('PW', 3), ('LH', 3), ('AV', 3), ('YT', 3), ('AN', 2), ('ZP', 2), ('XE', 2)]\n",
      "Decoding matrix:\n",
      "[[17 20]\n",
      " [ 8  7]]\n",
      "Decoded ciphertext2:\n",
      "THISWASNOTANEASYTEXTTODECIPHERANDWEHOPEDIGRAPHSMAKEMORESENSENOWCONGRATSAGAINONBEINGABLETODECIPHERTHETEXTWITHTHISALSOMAKESURETOINCLUDEINYOURREPORTWHYYOUTHINKITISSOHARDTODECIPHERTHEOTHERENCRYPTEDTEXTX\n"
     ]
    }
   ],
   "source": [
    "def decode_message_fix(encoded_message, key_matrix, modulo):\n",
    "    # Find the inverse of the key matrix in the modular space\n",
    "    key = key_matrix # Changed this line from exercise 1 so inversion was not repeated\n",
    "    \n",
    "    # Convert encoded message to numerical values (A=0, B=1, ..., Z=25)\n",
    "    numMessageSpace = []\n",
    "    numMessage = []\n",
    "    atoz = ['A','B','C','D','E','F','G','H','I','J','K','L','M','N','O','P','Q','R','S','T','U','V','W','X','Y','Z']\n",
    "    for i in encoded_message:\n",
    "        if i == ' ':\n",
    "            numMessageSpace.append(' ')\n",
    "        else:\n",
    "            i = i.capitalize()\n",
    "            num = atoz.index(i)\n",
    "            numMessage.append(num)\n",
    "            numMessageSpace.append(num)\n",
    "    # Multiply the encoded vector by the inverse key matrix and apply modulo\n",
    "    encrypt = []\n",
    "    j = 0\n",
    "    while j < len(numMessage):\n",
    "        temp = np.array([[numMessage[j]], [numMessage[j+1]]])\n",
    "        temp = (key @ temp)\n",
    "        temp = np.mod(temp, modulo)\n",
    "        encrypt.append(temp[0])\n",
    "        encrypt.append(temp[1])\n",
    "        j = j + 2\n",
    "    \n",
    "    # Convert the numerical values back to characters\n",
    "    final = \"\"\n",
    "    j = 0\n",
    "    for i in numMessageSpace:\n",
    "        if i == ' ':\n",
    "            final = final + ' '\n",
    "        else:\n",
    "            temp = int(encrypt[j])\n",
    "            temp = atoz[temp]\n",
    "            final = final + temp\n",
    "            j = j + 1\n",
    "    final = str(final)\n",
    "    return(final)\n",
    "\n",
    "# Ciphertext 1\n",
    "# The first parameter is common digraphs in the ciphertext and the second is the two most common english digraphs.\n",
    "D = find_deciphering_matrix([\"KH\", \"XW\"], [\"TH\", \"HE\"])\n",
    "decipheredText = decode_message_fix(ciphertext1, D, 26)\n",
    "print(\"Decoded ciphertext1:\")\n",
    "print(decipheredText)\n",
    "\n",
    "# Ciphertext 2\n",
    "print(\"List of digraphs and how common they are:\", frequency_analysis(ciphertext2))\n",
    "\n",
    "D = find_deciphering_matrix([\"XX\", \"AV\"], [\"TH\", \"ER\"])\n",
    "print(\"Decoding matrix:\")\n",
    "print(D)\n",
    "decipheredText = decode_message_fix(ciphertext2, D, 26)\n",
    "print(\"Decoded ciphertext2:\")\n",
    "print(decipheredText)"
   ]
  },
  {
   "cell_type": "markdown",
   "id": "nCZYLNC6Y7bo",
   "metadata": {
    "id": "nCZYLNC6Y7bo"
   },
   "source": [
    "### Exercise 4: Enhanced Hill Cipher\n",
    "**Description**: This exercise introduces an additional layer of complexity by using multiple matrices to encipher and decipher messages. Students will learn how to apply multiple transformations and understand the impact on the ciphertext.\n",
    "\n",
    "**Tasks**:\n",
    "1. **Enciphering with Multiple Matrices**:\n",
    "   - Learn how to apply two different matrices sequentially to encipher a message.\n",
    "   - Implement the process in Python and encipher the message \"SEND\" using the given matrices.\n",
    "2. **Deciphering Process**:\n",
    "   - Understand the steps required to decipher a message encoded with multiple matrices.\n",
    "   - Implement the deciphering process in Python and decode the given ciphertext.\n",
    "3. **Explore the Impact of Multiple Matrices**:\n",
    "   - Discuss how using multiple matrices enhances the security of the cipher.\n",
    "   - Analyze the conditions under which the matrices are invertible and their impact on the deciphering process."
   ]
  },
  {
   "cell_type": "code",
   "execution_count": 12,
   "id": "4c3d32b6-f091-425e-ba28-69f8b16f88b5",
   "metadata": {
    "id": "zSar5IziY7bo",
    "tags": []
   },
   "outputs": [
    {
     "name": "stdout",
     "output_type": "stream",
     "text": [
      "Encoded message: ? ?EEP MTPNW. AKRQH.A\n",
      "Decoded message: I LOVE LINEAR ALGEBRA\n"
     ]
    }
   ],
   "source": [
    "#Multi-step encodin\n",
    "def multi_step_encode(message, matrices, moduli):\n",
    "    # Apply multiple matrices in succession to encode the message\n",
    "    numMessageSpace = []\n",
    "    numMessage=[]\n",
    "    letter_list = ' .?ABCDEFGHIJKLMNOPQRSTUVWXYZ'\n",
    "    alphabet = []\n",
    "    for i in message:\n",
    "        if i == ' ':\n",
    "            numMessageSpace.append(' ')\n",
    "        else:\n",
    "            i = i.capitalize()\n",
    "            num = letter_list.index(i)\n",
    "            numMessage.append(num)\n",
    "            numMessageSpace.append(num)\n",
    "    encrypt = []\n",
    "    j = 0\n",
    "    while j < len(numMessage):\n",
    "        pair = np.array([[numMessage[j]], [numMessage[j+1]]])\n",
    "        temp = matrices[0] @ pair % moduli[0]\n",
    "        temp_1 = matrices[1] @ temp % moduli[1]\n",
    "        encrypt.append(int(temp_1[0][0]))\n",
    "        encrypt.append(int(temp_1[1][0]))\n",
    "        j += 2\n",
    "    final = \"\"\n",
    "    j = 0\n",
    "    for i in numMessageSpace:\n",
    "        if i == ' ':\n",
    "            final = final + ' '\n",
    "        else:\n",
    "            temp_1 = int(encrypt[j])\n",
    "            adding = letter_list[temp_1]\n",
    "            final = final + adding\n",
    "            j = j + 1\n",
    "    final = str(final)\n",
    "    return(final)\n",
    "\n",
    "    \n",
    "    \n",
    "    \n",
    "    \n",
    "\n",
    "#Multi-step decoding\n",
    "def multi_step_decode(encoded_message, matrices, moduli):\n",
    "    # Apply the inverse of multiple matrices in succession to decode the message\n",
    "    key_1 = (np.linalg.inv(matrices[0]))\n",
    "    key_2 = (np.linalg.inv(matrices[1]))\n",
    "    numMessageSpace = []\n",
    "    numMessage=[]\n",
    "    letter_list = ' .?ABCDEFGHIJKLMNOPQRSTUVWXYZ'\n",
    "    alphabet = []\n",
    "    for i in encoded_message:\n",
    "        if i == ' ':\n",
    "            numMessageSpace.append(' ')\n",
    "        else:\n",
    "            i = i.capitalize()\n",
    "            num = letter_list.index(i)\n",
    "            numMessage.append(num)\n",
    "            numMessageSpace.append(num)\n",
    "    if len(numMessage) % 2 != 0:\n",
    "        numMessage.append(0)\n",
    "        numMessageSpace.append(0)\n",
    "    det2 = int(round(np.linalg.det(matrices[1]))) % moduli[1]\n",
    "    for x in range(1, moduli[1]):\n",
    "        if (det2 * x) % moduli[1] == 1:\n",
    "            det_inv2 = x\n",
    "            break\n",
    "    adj2 = np.round(det2 * np.linalg.inv(matrices[1])).astype(int)\n",
    "    inv2 = (det_inv2 * adj2) % moduli[1]\n",
    "\n",
    "    det1 = int(round(np.linalg.det(matrices[0]))) % moduli[0]\n",
    "    for x in range(1, moduli[0]):\n",
    "        if (det1 * x) % moduli[0] == 1:\n",
    "            det_inv1 = x\n",
    "            break\n",
    "    adj1 = np.round(det1 * np.linalg.inv(matrices[0])).astype(int)\n",
    "    inv1 = (det_inv1 * adj1) % moduli[0]\n",
    "    encrypt = []\n",
    "    j = 0\n",
    "    while j < len(numMessage):\n",
    "        pair = np.array([[numMessage[j]], [numMessage[j+1]]])\n",
    "        temp = inv2 @ pair % moduli[1]\n",
    "        temp_1 = inv1 @ temp % moduli[0]\n",
    "        encrypt.append(temp_1[0])\n",
    "        encrypt.append(temp_1[1])\n",
    "        j = j + 2\n",
    "    final = \"\"\n",
    "    j = 0\n",
    "    for i in numMessageSpace:\n",
    "        if i == ' ':\n",
    "            final = final + ' '\n",
    "        else:\n",
    "            temp_1 = int(encrypt[j])\n",
    "            adding = letter_list[temp_1]\n",
    "            final = final + adding\n",
    "            j = j + 1\n",
    "    final = str(final)\n",
    "    return(final)\n",
    "\n",
    "\n",
    "# Example usage\n",
    "message = \"I love linear algebra\"\n",
    "matrices = [np.array([[3, 11], [4, 15]]), np.array([[10, 15], [5, 9]])]\n",
    "moduli = [26, 29]\n",
    "\n",
    "# Students complete these functions\n",
    "encoded_message = multi_step_encode(message, matrices, moduli)\n",
    "decoded_message = multi_step_decode(encoded_message, matrices, moduli)\n",
    "\n",
    "print(f\"Encoded message: {encoded_message}\")\n",
    "print(f\"Decoded message: {decoded_message}\")"
   ]
  },
  {
   "cell_type": "markdown",
   "id": "ET2H2rhCY7bp",
   "metadata": {
    "id": "ET2H2rhCY7bp"
   },
   "source": [
    "## Final Discussion:\n",
    "\n",
    "Please provide a 250-300 word report on what you learned from this project. Provide any more details about the project and expand on your favorite part of the project. Include any other information you have about this."
   ]
  },
  {
   "cell_type": "markdown",
   "id": "fNYOvJsLpqxJ",
   "metadata": {
    "id": "fNYOvJsLpqxJ"
   },
   "source": [
    "Each section presented its own individual hurdles for the group which allowed us to learn new things at each step. For the first section, where we had to convert the hill cipher into a coded structure, we learned what limitations numpy arrays have and what we can and can not create using them. This allowed us to create better coding later on in part 3 and 4. For the second section, we learned more about what the calculations were actually asking us to do, instead of just brute forcing the solution. Like multiplying the matrix by mod 26 in order to get the original matrix. We adjusted our knowledge of matrices to match them to fit modular matrices. In the third section, we ran into issues with conceptualizing what it would mean to un-code a hill cipher with no known key. So we had to learn a lot about what common letter combinations became using different matrix keys and how to code those predictions. In general, this section was the one which had the most challenges and the most to learn from for matrix usage. It did end up being one of our most rewarding sections, we really enjoyed when any of the code we wrote worked but seeing our predictive code work was really exciting.  For the final section, we learned how to accurately reverse hill cipher encoding and changed the original functions in previous exercises to implement this new function. By leveraging previously built functions, we were able to quickly solve the ciphertext and establish an even stronger foundation in our code.\n",
    "\n",
    "Overall, it was really exciting to get to work in a group and share different ideas on how to approach these problems. It allowed us to learn different methods of approaching matrix problems and coding problems, which we believe will benefit us long term."
   ]
  },
  {
   "cell_type": "code",
   "execution_count": null,
   "id": "BfMtBDe-tEbx",
   "metadata": {
    "id": "BfMtBDe-tEbx"
   },
   "outputs": [],
   "source": []
  }
 ],
 "metadata": {
  "colab": {
   "provenance": []
  },
  "kernelspec": {
   "display_name": "Python 3 (ipykernel)",
   "language": "python",
   "name": "python3"
  },
  "language_info": {
   "codemirror_mode": {
    "name": "ipython",
    "version": 3
   },
   "file_extension": ".py",
   "mimetype": "text/x-python",
   "name": "python",
   "nbconvert_exporter": "python",
   "pygments_lexer": "ipython3",
   "version": "3.10.8"
  }
 },
 "nbformat": 4,
 "nbformat_minor": 5
}
